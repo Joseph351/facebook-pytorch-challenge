{
 "cells": [
  {
   "cell_type": "markdown",
   "metadata": {},
   "source": [
    "# Scoring your trained model\n",
    "\n",
    "In the cell below, please load your model into `model`. Also if you used an image size for your input images that *isn't* 224x224, you'll need to set `image_size` to the size you used. The scoring code assumes square input images.\n",
    "\n",
    "For example, this is how I loaded in my checkpoint:\n",
    "\n",
    "```python\n",
    "import torch\n",
    "from torch import nn\n",
    "import torch.nn.functional as F\n",
    "from torchvision import models\n",
    "\n",
    "class FFClassifier(nn.Module):\n",
    "    \n",
    "    def __init__(self, in_features, hidden_features, \n",
    "                       out_features, drop_prob=0.1):\n",
    "        super().__init__()\n",
    "        \n",
    "        self.fc1 = nn.Linear(in_features, hidden_features)\n",
    "        self.fc2 = nn.Linear(hidden_features, out_features)\n",
    "        self.drop = nn.Dropout(p=drop_prob)\n",
    "        \n",
    "    def forward(self, x):\n",
    "        x = self.drop(F.relu(self.fc1(x)))\n",
    "        x = self.fc2(x)\n",
    "        x = F.log_softmax(x, dim=1)\n",
    "        return x\n",
    "\n",
    "    \n",
    "def load_checkpoint(checkpoint_path):\n",
    "    checkpoint = torch.load(checkpoint_path)\n",
    "    \n",
    "    model = models.vgg16(pretrained=False)\n",
    "    for param in model.parameters():\n",
    "        param.requires_grad = False\n",
    "\n",
    "    # Put the classifier on the pretrained network\n",
    "    model.classifier = FFClassifier(25088, checkpoint['hidden'], 102)\n",
    "    \n",
    "    model.load_state_dict(checkpoint['state_dict'])\n",
    "    \n",
    "    return model\n",
    "\n",
    "model = load_checkpoint('/home/workspace/classifier.pt')\n",
    "```\n",
    "\n",
    "Your exact code here will depend on how you defined your network in the project. Make sure you use the absolute path to your checkpoint which should have been uploaded to the `/home/workspace` directory.\n",
    "\n",
    "Run the cell, then after loading the data, press \"Test Code\" below. This can take a few minutes or more depending on the size of your network. Your model needs  to reach **at least 20% accuracy** on the test set to be recorded."
   ]
  },
  {
   "cell_type": "code",
   "execution_count": 1,
   "metadata": {},
   "outputs": [],
   "source": [
    "import torch\n",
    "from torch import nn\n",
    "import torch.nn.functional as F\n",
    "from torchvision import models\n",
    "from collections import OrderedDict\n",
    "\n",
    "#load my networks\n",
    "def load_checkpoint(filepath):\n",
    "    \n",
    "    #load checkpoint\n",
    "    checkpoint = torch.load(filepath, map_location='cpu')\n",
    "    \n",
    "    #get all parameters from checkpoint\n",
    "    model = models.densenet121(pretrained=True)\n",
    "    for param in model.parameters():\n",
    "        param.requires_grad = False\n",
    "    classifier = nn.Sequential(OrderedDict([\n",
    "                          ('dropout1', nn.Dropout(0.1)),\n",
    "                          ('fc1', nn.Linear(1024, 500)), # 1024 must match\n",
    "                          ('relu1', nn.ReLU()),\n",
    "                          ('dropout2', nn.Dropout(0.1)),\n",
    "                          ('fc2', nn.Linear(500, 102)),\n",
    "                          ('output', nn.LogSoftmax(dim=1))\n",
    "                          ]))\n",
    "    classifier.load_state_dict\n",
    "    model.classifier = classifier\n",
    "    model.load_state_dict(checkpoint['state_dict'])\n",
    "    return model"
   ]
  },
  {
   "cell_type": "code",
   "execution_count": 2,
   "metadata": {},
   "outputs": [
    {
     "name": "stderr",
     "output_type": "stream",
     "text": [
      "/opt/conda/lib/python3.6/site-packages/torch/serialization.py:367: SourceChangeWarning: source code of class 'torch.nn.modules.conv.Conv2d' has changed. you can retrieve the original source code by accessing the object's source attribute or set `torch.nn.Module.dump_patches = True` and use the patch tool to revert the changes.\n",
      "  warnings.warn(msg, SourceChangeWarning)\n",
      "/opt/conda/lib/python3.6/site-packages/torch/serialization.py:367: SourceChangeWarning: source code of class 'torch.nn.modules.batchnorm.BatchNorm2d' has changed. you can retrieve the original source code by accessing the object's source attribute or set `torch.nn.Module.dump_patches = True` and use the patch tool to revert the changes.\n",
      "  warnings.warn(msg, SourceChangeWarning)\n",
      "/opt/conda/lib/python3.6/site-packages/torch/serialization.py:367: SourceChangeWarning: source code of class 'torch.nn.modules.linear.Linear' has changed. you can retrieve the original source code by accessing the object's source attribute or set `torch.nn.Module.dump_patches = True` and use the patch tool to revert the changes.\n",
      "  warnings.warn(msg, SourceChangeWarning)\n",
      "/opt/conda/lib/python3.6/site-packages/torch/serialization.py:367: SourceChangeWarning: source code of class 'torch.nn.modules.loss.NLLLoss' has changed. you can retrieve the original source code by accessing the object's source attribute or set `torch.nn.Module.dump_patches = True` and use the patch tool to revert the changes.\n",
      "  warnings.warn(msg, SourceChangeWarning)\n"
     ]
    }
   ],
   "source": [
    "checkpoint = torch.load('/home/workspace/checkpoint.pth', map_location='cpu')"
   ]
  },
  {
   "cell_type": "code",
   "execution_count": 4,
   "metadata": {},
   "outputs": [
    {
     "data": {
      "text/plain": [
       "dict_keys(['input_size', 'output_size', 'model', 'state_dict', 'optimizer_state_dict', 'criterion', 'epochs', 'class_to_idx'])"
      ]
     },
     "execution_count": 4,
     "metadata": {},
     "output_type": "execute_result"
    }
   ],
   "source": [
    "checkpoint.keys()"
   ]
  },
  {
   "cell_type": "code",
   "execution_count": 5,
   "metadata": {
    "edited": true,
    "gradable": true,
    "grader_id": "vriua3cwbv"
   },
   "outputs": [
    {
     "name": "stderr",
     "output_type": "stream",
     "text": [
      "/opt/conda/lib/python3.6/site-packages/torch/serialization.py:367: SourceChangeWarning: source code of class 'torch.nn.modules.conv.Conv2d' has changed. you can retrieve the original source code by accessing the object's source attribute or set `torch.nn.Module.dump_patches = True` and use the patch tool to revert the changes.\n",
      "  warnings.warn(msg, SourceChangeWarning)\n",
      "/opt/conda/lib/python3.6/site-packages/torch/serialization.py:367: SourceChangeWarning: source code of class 'torch.nn.modules.batchnorm.BatchNorm2d' has changed. you can retrieve the original source code by accessing the object's source attribute or set `torch.nn.Module.dump_patches = True` and use the patch tool to revert the changes.\n",
      "  warnings.warn(msg, SourceChangeWarning)\n",
      "/opt/conda/lib/python3.6/site-packages/torch/serialization.py:367: SourceChangeWarning: source code of class 'torch.nn.modules.linear.Linear' has changed. you can retrieve the original source code by accessing the object's source attribute or set `torch.nn.Module.dump_patches = True` and use the patch tool to revert the changes.\n",
      "  warnings.warn(msg, SourceChangeWarning)\n",
      "/opt/conda/lib/python3.6/site-packages/torch/serialization.py:367: SourceChangeWarning: source code of class 'torch.nn.modules.loss.NLLLoss' has changed. you can retrieve the original source code by accessing the object's source attribute or set `torch.nn.Module.dump_patches = True` and use the patch tool to revert the changes.\n",
      "  warnings.warn(msg, SourceChangeWarning)\n",
      "/opt/conda/lib/python3.6/site-packages/torchvision-0.2.1-py3.6.egg/torchvision/models/densenet.py:212: UserWarning: nn.init.kaiming_normal is now deprecated in favor of nn.init.kaiming_normal_.\n",
      "  nn.init.kaiming_normal(m.weight.data)\n"
     ]
    },
    {
     "ename": "RuntimeError",
     "evalue": "Error(s) in loading state_dict for DenseNet:\n\tUnexpected key(s) in state_dict: \"features.norm0.num_batches_tracked\", \"features.denseblock1.denselayer1.norm1.num_batches_tracked\", \"features.denseblock1.denselayer1.norm2.num_batches_tracked\", \"features.denseblock1.denselayer2.norm1.num_batches_tracked\", \"features.denseblock1.denselayer2.norm2.num_batches_tracked\", \"features.denseblock1.denselayer3.norm1.num_batches_tracked\", \"features.denseblock1.denselayer3.norm2.num_batches_tracked\", \"features.denseblock1.denselayer4.norm1.num_batches_tracked\", \"features.denseblock1.denselayer4.norm2.num_batches_tracked\", \"features.denseblock1.denselayer5.norm1.num_batches_tracked\", \"features.denseblock1.denselayer5.norm2.num_batches_tracked\", \"features.denseblock1.denselayer6.norm1.num_batches_tracked\", \"features.denseblock1.denselayer6.norm2.num_batches_tracked\", \"features.transition1.norm.num_batches_tracked\", \"features.denseblock2.denselayer1.norm1.num_batches_tracked\", \"features.denseblock2.denselayer1.norm2.num_batches_tracked\", \"features.denseblock2.denselayer2.norm1.num_batches_tracked\", \"features.denseblock2.denselayer2.norm2.num_batches_tracked\", \"features.denseblock2.denselayer3.norm1.num_batches_tracked\", \"features.denseblock2.denselayer3.norm2.num_batches_tracked\", \"features.denseblock2.denselayer4.norm1.num_batches_tracked\", \"features.denseblock2.denselayer4.norm2.num_batches_tracked\", \"features.denseblock2.denselayer5.norm1.num_batches_tracked\", \"features.denseblock2.denselayer5.norm2.num_batches_tracked\", \"features.denseblock2.denselayer6.norm1.num_batches_tracked\", \"features.denseblock2.denselayer6.norm2.num_batches_tracked\", \"features.denseblock2.denselayer7.norm1.num_batches_tracked\", \"features.denseblock2.denselayer7.norm2.num_batches_tracked\", \"features.denseblock2.denselayer8.norm1.num_batches_tracked\", \"features.denseblock2.denselayer8.norm2.num_batches_tracked\", \"features.denseblock2.denselayer9.norm1.num_batches_tracked\", \"features.denseblock2.denselayer9.norm2.num_batches_tracked\", \"features.denseblock2.denselayer10.norm1.num_batches_tracked\", \"features.denseblock2.denselayer10.norm2.num_batches_tracked\", \"features.denseblock2.denselayer11.norm1.num_batches_tracked\", \"features.denseblock2.denselayer11.norm2.num_batches_tracked\", \"features.denseblock2.denselayer12.norm1.num_batches_tracked\", \"features.denseblock2.denselayer12.norm2.num_batches_tracked\", \"features.transition2.norm.num_batches_tracked\", \"features.denseblock3.denselayer1.norm1.num_batches_tracked\", \"features.denseblock3.denselayer1.norm2.num_batches_tracked\", \"features.denseblock3.denselayer2.norm1.num_batches_tracked\", \"features.denseblock3.denselayer2.norm2.num_batches_tracked\", \"features.denseblock3.denselayer3.norm1.num_batches_tracked\", \"features.denseblock3.denselayer3.norm2.num_batches_tracked\", \"features.denseblock3.denselayer4.norm1.num_batches_tracked\", \"features.denseblock3.denselayer4.norm2.num_batches_tracked\", \"features.denseblock3.denselayer5.norm1.num_batches_tracked\", \"features.denseblock3.denselayer5.norm2.num_batches_tracked\", \"features.denseblock3.denselayer6.norm1.num_batches_tracked\", \"features.denseblock3.denselayer6.norm2.num_batches_tracked\", \"features.denseblock3.denselayer7.norm1.num_batches_tracked\", \"features.denseblock3.denselayer7.norm2.num_batches_tracked\", \"features.denseblock3.denselayer8.norm1.num_batches_tracked\", \"features.denseblock3.denselayer8.norm2.num_batches_tracked\", \"features.denseblock3.denselayer9.norm1.num_batches_tracked\", \"features.denseblock3.denselayer9.norm2.num_batches_tracked\", \"features.denseblock3.denselayer10.norm1.num_batches_tracked\", \"features.denseblock3.denselayer10.norm2.num_batches_tracked\", \"features.denseblock3.denselayer11.norm1.num_batches_tracked\", \"features.denseblock3.denselayer11.norm2.num_batches_tracked\", \"features.denseblock3.denselayer12.norm1.num_batches_tracked\", \"features.denseblock3.denselayer12.norm2.num_batches_tracked\", \"features.denseblock3.denselayer13.norm1.num_batches_tracked\", \"features.denseblock3.denselayer13.norm2.num_batches_tracked\", \"features.denseblock3.denselayer14.norm1.num_batches_tracked\", \"features.denseblock3.denselayer14.norm2.num_batches_tracked\", \"features.denseblock3.denselayer15.norm1.num_batches_tracked\", \"features.denseblock3.denselayer15.norm2.num_batches_tracked\", \"features.denseblock3.denselayer16.norm1.num_batches_tracked\", \"features.denseblock3.denselayer16.norm2.num_batches_tracked\", \"features.denseblock3.denselayer17.norm1.num_batches_tracked\", \"features.denseblock3.denselayer17.norm2.num_batches_tracked\", \"features.denseblock3.denselayer18.norm1.num_batches_tracked\", \"features.denseblock3.denselayer18.norm2.num_batches_tracked\", \"features.denseblock3.denselayer19.norm1.num_batches_tracked\", \"features.denseblock3.denselayer19.norm2.num_batches_tracked\", \"features.denseblock3.denselayer20.norm1.num_batches_tracked\", \"features.denseblock3.denselayer20.norm2.num_batches_tracked\", \"features.denseblock3.denselayer21.norm1.num_batches_tracked\", \"features.denseblock3.denselayer21.norm2.num_batches_tracked\", \"features.denseblock3.denselayer22.norm1.num_batches_tracked\", \"features.denseblock3.denselayer22.norm2.num_batches_tracked\", \"features.denseblock3.denselayer23.norm1.num_batches_tracked\", \"features.denseblock3.denselayer23.norm2.num_batches_tracked\", \"features.denseblock3.denselayer24.norm1.num_batches_tracked\", \"features.denseblock3.denselayer24.norm2.num_batches_tracked\", \"features.transition3.norm.num_batches_tracked\", \"features.denseblock4.denselayer1.norm1.num_batches_tracked\", \"features.denseblock4.denselayer1.norm2.num_batches_tracked\", \"features.denseblock4.denselayer2.norm1.num_batches_tracked\", \"features.denseblock4.denselayer2.norm2.num_batches_tracked\", \"features.denseblock4.denselayer3.norm1.num_batches_tracked\", \"features.denseblock4.denselayer3.norm2.num_batches_tracked\", \"features.denseblock4.denselayer4.norm1.num_batches_tracked\", \"features.denseblock4.denselayer4.norm2.num_batches_tracked\", \"features.denseblock4.denselayer5.norm1.num_batches_tracked\", \"features.denseblock4.denselayer5.norm2.num_batches_tracked\", \"features.denseblock4.denselayer6.norm1.num_batches_tracked\", \"features.denseblock4.denselayer6.norm2.num_batches_tracked\", \"features.denseblock4.denselayer7.norm1.num_batches_tracked\", \"features.denseblock4.denselayer7.norm2.num_batches_tracked\", \"features.denseblock4.denselayer8.norm1.num_batches_tracked\", \"features.denseblock4.denselayer8.norm2.num_batches_tracked\", \"features.denseblock4.denselayer9.norm1.num_batches_tracked\", \"features.denseblock4.denselayer9.norm2.num_batches_tracked\", \"features.denseblock4.denselayer10.norm1.num_batches_tracked\", \"features.denseblock4.denselayer10.norm2.num_batches_tracked\", \"features.denseblock4.denselayer11.norm1.num_batches_tracked\", \"features.denseblock4.denselayer11.norm2.num_batches_tracked\", \"features.denseblock4.denselayer12.norm1.num_batches_tracked\", \"features.denseblock4.denselayer12.norm2.num_batches_tracked\", \"features.denseblock4.denselayer13.norm1.num_batches_tracked\", \"features.denseblock4.denselayer13.norm2.num_batches_tracked\", \"features.denseblock4.denselayer14.norm1.num_batches_tracked\", \"features.denseblock4.denselayer14.norm2.num_batches_tracked\", \"features.denseblock4.denselayer15.norm1.num_batches_tracked\", \"features.denseblock4.denselayer15.norm2.num_batches_tracked\", \"features.denseblock4.denselayer16.norm1.num_batches_tracked\", \"features.denseblock4.denselayer16.norm2.num_batches_tracked\", \"features.norm5.num_batches_tracked\". ",
     "output_type": "error",
     "traceback": [
      "\u001b[0;31m---------------------------------------------------------------------------\u001b[0m",
      "\u001b[0;31mRuntimeError\u001b[0m                              Traceback (most recent call last)",
      "\u001b[0;32m<ipython-input-5-f4a6452dda21>\u001b[0m in \u001b[0;36m<module>\u001b[0;34m()\u001b[0m\n\u001b[1;32m      1\u001b[0m \u001b[0;31m# Load your model to this variable\u001b[0m\u001b[0;34m\u001b[0m\u001b[0;34m\u001b[0m\u001b[0m\n\u001b[0;32m----> 2\u001b[0;31m \u001b[0mmodel\u001b[0m \u001b[0;34m=\u001b[0m \u001b[0mload_checkpoint\u001b[0m\u001b[0;34m(\u001b[0m\u001b[0;34m'/home/workspace/checkpoint.pth'\u001b[0m\u001b[0;34m)\u001b[0m\u001b[0;34m\u001b[0m\u001b[0m\n\u001b[0m",
      "\u001b[0;32m<ipython-input-1-9ef5d23b1162>\u001b[0m in \u001b[0;36mload_checkpoint\u001b[0;34m(filepath)\u001b[0m\n\u001b[1;32m     25\u001b[0m     \u001b[0mclassifier\u001b[0m\u001b[0;34m.\u001b[0m\u001b[0mload_state_dict\u001b[0m\u001b[0;34m\u001b[0m\u001b[0m\n\u001b[1;32m     26\u001b[0m     \u001b[0mmodel\u001b[0m\u001b[0;34m.\u001b[0m\u001b[0mclassifier\u001b[0m \u001b[0;34m=\u001b[0m \u001b[0mclassifier\u001b[0m\u001b[0;34m\u001b[0m\u001b[0m\n\u001b[0;32m---> 27\u001b[0;31m     \u001b[0mmodel\u001b[0m\u001b[0;34m.\u001b[0m\u001b[0mload_state_dict\u001b[0m\u001b[0;34m(\u001b[0m\u001b[0mcheckpoint\u001b[0m\u001b[0;34m[\u001b[0m\u001b[0;34m'state_dict'\u001b[0m\u001b[0;34m]\u001b[0m\u001b[0;34m)\u001b[0m\u001b[0;34m\u001b[0m\u001b[0m\n\u001b[0m\u001b[1;32m     28\u001b[0m     \u001b[0;32mreturn\u001b[0m \u001b[0mmodel\u001b[0m\u001b[0;34m\u001b[0m\u001b[0m\n",
      "\u001b[0;32m/opt/conda/lib/python3.6/site-packages/torch/nn/modules/module.py\u001b[0m in \u001b[0;36mload_state_dict\u001b[0;34m(self, state_dict, strict)\u001b[0m\n\u001b[1;32m    719\u001b[0m         \u001b[0;32mif\u001b[0m \u001b[0mlen\u001b[0m\u001b[0;34m(\u001b[0m\u001b[0merror_msgs\u001b[0m\u001b[0;34m)\u001b[0m \u001b[0;34m>\u001b[0m \u001b[0;36m0\u001b[0m\u001b[0;34m:\u001b[0m\u001b[0;34m\u001b[0m\u001b[0m\n\u001b[1;32m    720\u001b[0m             raise RuntimeError('Error(s) in loading state_dict for {}:\\n\\t{}'.format(\n\u001b[0;32m--> 721\u001b[0;31m                                self.__class__.__name__, \"\\n\\t\".join(error_msgs)))\n\u001b[0m\u001b[1;32m    722\u001b[0m \u001b[0;34m\u001b[0m\u001b[0m\n\u001b[1;32m    723\u001b[0m     \u001b[0;32mdef\u001b[0m \u001b[0mparameters\u001b[0m\u001b[0;34m(\u001b[0m\u001b[0mself\u001b[0m\u001b[0;34m)\u001b[0m\u001b[0;34m:\u001b[0m\u001b[0;34m\u001b[0m\u001b[0m\n",
      "\u001b[0;31mRuntimeError\u001b[0m: Error(s) in loading state_dict for DenseNet:\n\tUnexpected key(s) in state_dict: \"features.norm0.num_batches_tracked\", \"features.denseblock1.denselayer1.norm1.num_batches_tracked\", \"features.denseblock1.denselayer1.norm2.num_batches_tracked\", \"features.denseblock1.denselayer2.norm1.num_batches_tracked\", \"features.denseblock1.denselayer2.norm2.num_batches_tracked\", \"features.denseblock1.denselayer3.norm1.num_batches_tracked\", \"features.denseblock1.denselayer3.norm2.num_batches_tracked\", \"features.denseblock1.denselayer4.norm1.num_batches_tracked\", \"features.denseblock1.denselayer4.norm2.num_batches_tracked\", \"features.denseblock1.denselayer5.norm1.num_batches_tracked\", \"features.denseblock1.denselayer5.norm2.num_batches_tracked\", \"features.denseblock1.denselayer6.norm1.num_batches_tracked\", \"features.denseblock1.denselayer6.norm2.num_batches_tracked\", \"features.transition1.norm.num_batches_tracked\", \"features.denseblock2.denselayer1.norm1.num_batches_tracked\", \"features.denseblock2.denselayer1.norm2.num_batches_tracked\", \"features.denseblock2.denselayer2.norm1.num_batches_tracked\", \"features.denseblock2.denselayer2.norm2.num_batches_tracked\", \"features.denseblock2.denselayer3.norm1.num_batches_tracked\", \"features.denseblock2.denselayer3.norm2.num_batches_tracked\", \"features.denseblock2.denselayer4.norm1.num_batches_tracked\", \"features.denseblock2.denselayer4.norm2.num_batches_tracked\", \"features.denseblock2.denselayer5.norm1.num_batches_tracked\", \"features.denseblock2.denselayer5.norm2.num_batches_tracked\", \"features.denseblock2.denselayer6.norm1.num_batches_tracked\", \"features.denseblock2.denselayer6.norm2.num_batches_tracked\", \"features.denseblock2.denselayer7.norm1.num_batches_tracked\", \"features.denseblock2.denselayer7.norm2.num_batches_tracked\", \"features.denseblock2.denselayer8.norm1.num_batches_tracked\", \"features.denseblock2.denselayer8.norm2.num_batches_tracked\", \"features.denseblock2.denselayer9.norm1.num_batches_tracked\", \"features.denseblock2.denselayer9.norm2.num_batches_tracked\", \"features.denseblock2.denselayer10.norm1.num_batches_tracked\", \"features.denseblock2.denselayer10.norm2.num_batches_tracked\", \"features.denseblock2.denselayer11.norm1.num_batches_tracked\", \"features.denseblock2.denselayer11.norm2.num_batches_tracked\", \"features.denseblock2.denselayer12.norm1.num_batches_tracked\", \"features.denseblock2.denselayer12.norm2.num_batches_tracked\", \"features.transition2.norm.num_batches_tracked\", \"features.denseblock3.denselayer1.norm1.num_batches_tracked\", \"features.denseblock3.denselayer1.norm2.num_batches_tracked\", \"features.denseblock3.denselayer2.norm1.num_batches_tracked\", \"features.denseblock3.denselayer2.norm2.num_batches_tracked\", \"features.denseblock3.denselayer3.norm1.num_batches_tracked\", \"features.denseblock3.denselayer3.norm2.num_batches_tracked\", \"features.denseblock3.denselayer4.norm1.num_batches_tracked\", \"features.denseblock3.denselayer4.norm2.num_batches_tracked\", \"features.denseblock3.denselayer5.norm1.num_batches_tracked\", \"features.denseblock3.denselayer5.norm2.num_batches_tracked\", \"features.denseblock3.denselayer6.norm1.num_batches_tracked\", \"features.denseblock3.denselayer6.norm2.num_batches_tracked\", \"features.denseblock3.denselayer7.norm1.num_batches_tracked\", \"features.denseblock3.denselayer7.norm2.num_batches_tracked\", \"features.denseblock3.denselayer8.norm1.num_batches_tracked\", \"features.denseblock3.denselayer8.norm2.num_batches_tracked\", \"features.denseblock3.denselayer9.norm1.num_batches_tracked\", \"features.denseblock3.denselayer9.norm2.num_batches_tracked\", \"features.denseblock3.denselayer10.norm1.num_batches_tracked\", \"features.denseblock3.denselayer10.norm2.num_batches_tracked\", \"features.denseblock3.denselayer11.norm1.num_batches_tracked\", \"features.denseblock3.denselayer11.norm2.num_batches_tracked\", \"features.denseblock3.denselayer12.norm1.num_batches_tracked\", \"features.denseblock3.denselayer12.norm2.num_batches_tracked\", \"features.denseblock3.denselayer13.norm1.num_batches_tracked\", \"features.denseblock3.denselayer13.norm2.num_batches_tracked\", \"features.denseblock3.denselayer14.norm1.num_batches_tracked\", \"features.denseblock3.denselayer14.norm2.num_batches_tracked\", \"features.denseblock3.denselayer15.norm1.num_batches_tracked\", \"features.denseblock3.denselayer15.norm2.num_batches_tracked\", \"features.denseblock3.denselayer16.norm1.num_batches_tracked\", \"features.denseblock3.denselayer16.norm2.num_batches_tracked\", \"features.denseblock3.denselayer17.norm1.num_batches_tracked\", \"features.denseblock3.denselayer17.norm2.num_batches_tracked\", \"features.denseblock3.denselayer18.norm1.num_batches_tracked\", \"features.denseblock3.denselayer18.norm2.num_batches_tracked\", \"features.denseblock3.denselayer19.norm1.num_batches_tracked\", \"features.denseblock3.denselayer19.norm2.num_batches_tracked\", \"features.denseblock3.denselayer20.norm1.num_batches_tracked\", \"features.denseblock3.denselayer20.norm2.num_batches_tracked\", \"features.denseblock3.denselayer21.norm1.num_batches_tracked\", \"features.denseblock3.denselayer21.norm2.num_batches_tracked\", \"features.denseblock3.denselayer22.norm1.num_batches_tracked\", \"features.denseblock3.denselayer22.norm2.num_batches_tracked\", \"features.denseblock3.denselayer23.norm1.num_batches_tracked\", \"features.denseblock3.denselayer23.norm2.num_batches_tracked\", \"features.denseblock3.denselayer24.norm1.num_batches_tracked\", \"features.denseblock3.denselayer24.norm2.num_batches_tracked\", \"features.transition3.norm.num_batches_tracked\", \"features.denseblock4.denselayer1.norm1.num_batches_tracked\", \"features.denseblock4.denselayer1.norm2.num_batches_tracked\", \"features.denseblock4.denselayer2.norm1.num_batches_tracked\", \"features.denseblock4.denselayer2.norm2.num_batches_tracked\", \"features.denseblock4.denselayer3.norm1.num_batches_tracked\", \"features.denseblock4.denselayer3.norm2.num_batches_tracked\", \"features.denseblock4.denselayer4.norm1.num_batches_tracked\", \"features.denseblock4.denselayer4.norm2.num_batches_tracked\", \"features.denseblock4.denselayer5.norm1.num_batches_tracked\", \"features.denseblock4.denselayer5.norm2.num_batches_tracked\", \"features.denseblock4.denselayer6.norm1.num_batches_tracked\", \"features.denseblock4.denselayer6.norm2.num_batches_tracked\", \"features.denseblock4.denselayer7.norm1.num_batches_tracked\", \"features.denseblock4.denselayer7.norm2.num_batches_tracked\", \"features.denseblock4.denselayer8.norm1.num_batches_tracked\", \"features.denseblock4.denselayer8.norm2.num_batches_tracked\", \"features.denseblock4.denselayer9.norm1.num_batches_tracked\", \"features.denseblock4.denselayer9.norm2.num_batches_tracked\", \"features.denseblock4.denselayer10.norm1.num_batches_tracked\", \"features.denseblock4.denselayer10.norm2.num_batches_tracked\", \"features.denseblock4.denselayer11.norm1.num_batches_tracked\", \"features.denseblock4.denselayer11.norm2.num_batches_tracked\", \"features.denseblock4.denselayer12.norm1.num_batches_tracked\", \"features.denseblock4.denselayer12.norm2.num_batches_tracked\", \"features.denseblock4.denselayer13.norm1.num_batches_tracked\", \"features.denseblock4.denselayer13.norm2.num_batches_tracked\", \"features.denseblock4.denselayer14.norm1.num_batches_tracked\", \"features.denseblock4.denselayer14.norm2.num_batches_tracked\", \"features.denseblock4.denselayer15.norm1.num_batches_tracked\", \"features.denseblock4.denselayer15.norm2.num_batches_tracked\", \"features.denseblock4.denselayer16.norm1.num_batches_tracked\", \"features.denseblock4.denselayer16.norm2.num_batches_tracked\", \"features.norm5.num_batches_tracked\". "
     ]
    }
   ],
   "source": [
    "# Load your model to this variable\n",
    "model = load_checkpoint('/home/workspace/checkpoint.pth')\n"
   ]
  },
  {
   "cell_type": "code",
   "execution_count": null,
   "metadata": {},
   "outputs": [],
   "source": []
  },
  {
   "cell_type": "code",
   "execution_count": null,
   "metadata": {},
   "outputs": [],
   "source": []
  },
  {
   "cell_type": "code",
   "execution_count": null,
   "metadata": {},
   "outputs": [],
   "source": []
  }
 ],
 "metadata": {
  "cell_exec_timeout": 600,
  "kernelspec": {
   "display_name": "Python 3",
   "language": "python",
   "name": "python3"
  },
  "language_info": {
   "codemirror_mode": {
    "name": "ipython",
    "version": 3
   },
   "file_extension": ".py",
   "mimetype": "text/x-python",
   "name": "python",
   "nbconvert_exporter": "python",
   "pygments_lexer": "ipython3",
   "version": "3.6.3"
  },
  "showGradeBtn": true
 },
 "nbformat": 4,
 "nbformat_minor": 2
}
